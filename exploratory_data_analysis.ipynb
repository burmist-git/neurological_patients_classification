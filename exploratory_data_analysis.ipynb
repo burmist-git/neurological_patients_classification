{
 "cells": [
  {
   "cell_type": "markdown",
   "metadata": {},
   "source": [
    "<div id=\"teaser\" style=' background-position:  right center; background-size: 00px; background-repeat: no-repeat; \n",
    "    padding-top: 20px;\n",
    "    padding-right: 10px;\n",
    "    padding-bottom: 50px;\n",
    "    padding-left: 10px;\n",
    "    border-bottom: 10px double #33;\n",
    "    border-top: 10px double #33;' > \n",
    " \n",
    " <div style=\"text-align:center\">\n",
    "  <b><font size=\"4.4\">Neurological patients classification</font></b>\n",
    " </div>\n",
    " <div style=\"text-align:center\">\n",
    "  <b><font size=\"4.4\">(exploratory data analysis)</font></b>\n",
    " </div>\n",
    "\n",
    " <p>\n",
    "  Date   : Sun Nov  8 19:50:25 CET 2020\n",
    " </p>\n",
    " <p>\n",
    "  Autors : Leonid Burmistrov, Andrii Kleshchonok\n",
    " </p>\n",
    " <p>\n",
    "  Description :\n",
    " </p>\n",
    "\n",
    "</div>"
   ]
  },
  {
   "cell_type": "code",
   "execution_count": 1,
   "metadata": {},
   "outputs": [],
   "source": [
    "import sys\n",
    "import numpy as np\n",
    "import pandas as pd\n",
    "import pandas_profiling as pdp\n",
    "import time\n",
    "from joblib import Parallel, delayed"
   ]
  },
  {
   "cell_type": "code",
   "execution_count": 2,
   "metadata": {},
   "outputs": [
    {
     "name": "stdout",
     "output_type": "stream",
     "text": [
      "2167\n",
      "2.9.0\n"
     ]
    }
   ],
   "source": [
    "print(len(sys.modules.keys()))\n",
    "print(pdp.__version__)"
   ]
  },
  {
   "cell_type": "code",
   "execution_count": 6,
   "metadata": {},
   "outputs": [],
   "source": [
    "df_dt1=pd.read_csv(\"./data/Data_DT1.csv\")\n",
    "df_dt2=pd.read_csv(\"./data/Data_DT2.csv\")\n",
    "df_st=pd.read_csv(\"./data/Data-ST.csv\")"
   ]
  },
  {
   "cell_type": "code",
   "execution_count": 7,
   "metadata": {},
   "outputs": [
    {
     "name": "stdout",
     "output_type": "stream",
     "text": [
      "['F' 'NF']\n",
      "['F' 'NF']\n",
      "['F' 'NF']\n",
      "274\n",
      "306\n",
      "349\n"
     ]
    }
   ],
   "source": [
    "#print(df_dt1.head())\n",
    "#print(df_dt2.head())\n",
    "#print(df_st.head())\n",
    "print(np.unique(df_dt1['Label']))\n",
    "print(np.unique(df_dt2['Label']))\n",
    "print(np.unique(df_st['Label']))\n",
    "print(len(df_dt1))\n",
    "print(len(df_dt2))\n",
    "print(len(df_st))"
   ]
  },
  {
   "cell_type": "code",
   "execution_count": 14,
   "metadata": {},
   "outputs": [
    {
     "name": "stdout",
     "output_type": "stream",
     "text": [
      "df_dt1.describe() --> \n",
      "df_dt2.describe() --> \n",
      "df_st.describe()  --> \n"
     ]
    }
   ],
   "source": [
    "print(\"df_dt1.describe() --> \")\n",
    "#print(df_dt1.describe())\n",
    "print(\"df_dt2.describe() --> \")\n",
    "#print(df_dt2.describe())\n",
    "print(\"df_st.describe()  --> \")\n",
    "#print(df_st.describe())"
   ]
  },
  {
   "cell_type": "code",
   "execution_count": 13,
   "metadata": {},
   "outputs": [
    {
     "name": "stdout",
     "output_type": "stream",
     "text": [
      "df_dt1.info() --> \n",
      "df_dt2.info() --> \n",
      "df_st.info()  --> \n"
     ]
    }
   ],
   "source": [
    "print(\"df_dt1.info() --> \")\n",
    "#print(df_dt1.info())\n",
    "print(\"df_dt2.info() --> \")\n",
    "#print(df_dt2.info())\n",
    "print(\"df_st.info()  --> \")\n",
    "#print(df_st.info())"
   ]
  },
  {
   "cell_type": "code",
   "execution_count": 13,
   "metadata": {},
   "outputs": [],
   "source": [
    "def buildProfileReport(df,title,file_out_name):\n",
    "    profile_=pdp.ProfileReport(df=df,title=title, explorative=True)\n",
    "    profile_.to_file(file_out_name)"
   ]
  },
  {
   "cell_type": "code",
   "execution_count": 14,
   "metadata": {},
   "outputs": [],
   "source": [
    "def zipFiles(fn):\n",
    "    !zip -r $fn\".zip\" $fn"
   ]
  },
  {
   "cell_type": "code",
   "execution_count": 15,
   "metadata": {},
   "outputs": [
    {
     "name": "stdout",
     "output_type": "stream",
     "text": [
      "117.29 s\n",
      "updating: data/profile_dt1.html (deflated 84%)\n",
      "updating: data/profile_dt2.html (deflated 85%)\n",
      "updating: data/profile_st.html (deflated 86%)\n"
     ]
    },
    {
     "data": {
      "text/plain": [
       "[None, None, None]"
      ]
     },
     "execution_count": 15,
     "metadata": {},
     "output_type": "execute_result"
    }
   ],
   "source": [
    "df_list=[df_dt1,df_dt2,df_st]\n",
    "title_list=['Profiling Report on DT1',\n",
    "            'Profiling Report on DT2',\n",
    "            'Profiling Report on ST']\n",
    "file_out_name_list=[\"./data/profile_dt1.html\",\n",
    "                    \"./data/profile_dt2.html\",\n",
    "                    \"./data/profile_st.html\"]\n",
    "#\n",
    "tic = time.time()\n",
    "Parallel(n_jobs=3)(delayed(buildProfileReport)(df_list[i],title_list[i],file_out_name_list[i]) for i in range(0,3))\n",
    "#[buildProfileReport(df_list[i],title_list[i],file_out_name_list[i]) for i in range(0,3)]\n",
    "toc = time.time()\n",
    "print('{:.2f} s'.format(toc - tic))\n",
    "#\n",
    "[zipFiles(file_out_name_list[i]) for i in range(0,3)]"
   ]
  }
 ],
 "metadata": {
  "kernelspec": {
   "display_name": "Python 3",
   "language": "python",
   "name": "python3"
  },
  "language_info": {
   "codemirror_mode": {
    "name": "ipython",
    "version": 3
   },
   "file_extension": ".py",
   "mimetype": "text/x-python",
   "name": "python",
   "nbconvert_exporter": "python",
   "pygments_lexer": "ipython3",
   "version": "3.8.5"
  }
 },
 "nbformat": 4,
 "nbformat_minor": 4
}
